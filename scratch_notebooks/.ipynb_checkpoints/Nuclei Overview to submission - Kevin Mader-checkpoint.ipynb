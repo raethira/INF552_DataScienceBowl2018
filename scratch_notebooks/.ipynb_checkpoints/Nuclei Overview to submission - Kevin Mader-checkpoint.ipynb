{
 "cells": [
  {
   "cell_type": "markdown",
   "metadata": {},
   "source": [
    "### Overview\n",
    "The kernel goes through:\n",
    "1. preprocessing steps to load data\n",
    "2. quick visualization of the color space\n",
    "3. training a simple CNN\n",
    "4. applying the model to the test data\n",
    "5. creating the RLE test data"
   ]
  },
  {
   "cell_type": "code",
   "execution_count": 17,
   "metadata": {},
   "outputs": [],
   "source": [
    "import numpy as np # linear algebra\n",
    "import pandas as pd # data processing, CSV files I/O (eg. pd.read_csv())\n",
    "from glob import glob\n",
    "import os\n",
    "from skimage.io import imread\n",
    "import matplotlib.pyplot as plt\n",
    "import seaborn as sns\n",
    "%matplotlib inline\n",
    "dsb_data_dir = os.path.join(\"..\", \"data\")\n",
    "stage_label = \"stage1\""
   ]
  },
  {
   "cell_type": "markdown",
   "metadata": {},
   "source": [
    "### Read in the labels"
   ]
  },
  {
   "cell_type": "code",
   "execution_count": 22,
   "metadata": {},
   "outputs": [
    {
     "data": {
      "text/html": [
       "<div>\n",
       "<style scoped>\n",
       "    .dataframe tbody tr th:only-of-type {\n",
       "        vertical-align: middle;\n",
       "    }\n",
       "\n",
       "    .dataframe tbody tr th {\n",
       "        vertical-align: top;\n",
       "    }\n",
       "\n",
       "    .dataframe thead th {\n",
       "        text-align: right;\n",
       "    }\n",
       "</style>\n",
       "<table border=\"1\" class=\"dataframe\">\n",
       "  <thead>\n",
       "    <tr style=\"text-align: right;\">\n",
       "      <th></th>\n",
       "      <th>ImageId</th>\n",
       "      <th>EncodedPixels</th>\n",
       "    </tr>\n",
       "  </thead>\n",
       "  <tbody>\n",
       "    <tr>\n",
       "      <th>10851</th>\n",
       "      <td>58cc121d37fb7f1b4a5252024d88415936781e540252b8...</td>\n",
       "      <td>[44051, 7, 44305, 11, 44559, 15, 44814, 17, 45...</td>\n",
       "    </tr>\n",
       "    <tr>\n",
       "      <th>848</th>\n",
       "      <td>07fb37aafa6626608af90c1e18f6a743f29b6b233d2e42...</td>\n",
       "      <td>[280513, 11, 281030, 16, 281549, 20, 282068, 2...</td>\n",
       "    </tr>\n",
       "    <tr>\n",
       "      <th>21391</th>\n",
       "      <td>b24ea5c268469a95ed155eeaf809e36030b78a2eb530a0...</td>\n",
       "      <td>[51577, 8, 52093, 16, 52608, 23, 53121, 31, 53...</td>\n",
       "    </tr>\n",
       "  </tbody>\n",
       "</table>\n",
       "</div>"
      ],
      "text/plain": [
       "                                                 ImageId  \\\n",
       "10851  58cc121d37fb7f1b4a5252024d88415936781e540252b8...   \n",
       "848    07fb37aafa6626608af90c1e18f6a743f29b6b233d2e42...   \n",
       "21391  b24ea5c268469a95ed155eeaf809e36030b78a2eb530a0...   \n",
       "\n",
       "                                           EncodedPixels  \n",
       "10851  [44051, 7, 44305, 11, 44559, 15, 44814, 17, 45...  \n",
       "848    [280513, 11, 281030, 16, 281549, 20, 282068, 2...  \n",
       "21391  [51577, 8, 52093, 16, 52608, 23, 53121, 31, 53...  "
      ]
     },
     "execution_count": 22,
     "metadata": {},
     "output_type": "execute_result"
    }
   ],
   "source": [
    "train_labels = pd.read_csv(os.path.join(dsb_data_dir, \"{}_train_labels/{}_train_labels.csv\".format(stage_label, stage_label)))\n",
    "train_labels[\"EncodedPixels\"] = train_labels[\"EncodedPixels\"].map(lambda ep: [int(x) for x in ep.split(\" \")])\n",
    "train_labels.sample(3)"
   ]
  },
  {
   "cell_type": "code",
   "execution_count": 23,
   "metadata": {},
   "outputs": [
    {
     "data": {
      "text/plain": [
       "(29461, 2)"
      ]
     },
     "execution_count": 23,
     "metadata": {},
     "output_type": "execute_result"
    }
   ],
   "source": [
    "train_labels.shape"
   ]
  },
  {
   "cell_type": "markdown",
   "metadata": {},
   "source": [
    "### Load in all the images"
   ]
  },
  {
   "cell_type": "markdown",
   "metadata": {},
   "source": [
    "Here we load in the images and process the paths so we have the appropriate information for each image"
   ]
  },
  {
   "cell_type": "code",
   "execution_count": 24,
   "metadata": {},
   "outputs": [],
   "source": [
    "all_images = glob(os.path.join(dsb_data_dir, \"stage1_*\", \"*\", \"*\", \"*\"))"
   ]
  },
  {
   "cell_type": "code",
   "execution_count": 26,
   "metadata": {},
   "outputs": [
    {
     "data": {
      "text/plain": [
       "30196"
      ]
     },
     "execution_count": 26,
     "metadata": {},
     "output_type": "execute_result"
    }
   ],
   "source": [
    "len(all_images)"
   ]
  },
  {
   "cell_type": "code",
   "execution_count": 27,
   "metadata": {},
   "outputs": [],
   "source": [
    "img_df = pd.DataFrame({\"path\": all_images})"
   ]
  },
  {
   "cell_type": "code",
   "execution_count": 36,
   "metadata": {},
   "outputs": [
    {
     "data": {
      "text/plain": [
       "'../data/stage1_train/e7a3a7c99483c243742b6cfa74e81cd48f126dcef004016ad0151df6c16a6243/masks/8b41b3cbc98d9c7f29f31b5a06ad3d2cf9453395f9e8991652d0026c1d998340.png'"
      ]
     },
     "execution_count": 36,
     "metadata": {},
     "output_type": "execute_result"
    }
   ],
   "source": [
    "img_df.iloc[1][\"path\"]\n",
    "# print(img_df.iloc['28008'])"
   ]
  },
  {
   "cell_type": "code",
   "execution_count": 37,
   "metadata": {},
   "outputs": [
    {
     "data": {
      "text/html": [
       "<div>\n",
       "<style scoped>\n",
       "    .dataframe tbody tr th:only-of-type {\n",
       "        vertical-align: middle;\n",
       "    }\n",
       "\n",
       "    .dataframe tbody tr th {\n",
       "        vertical-align: top;\n",
       "    }\n",
       "\n",
       "    .dataframe thead th {\n",
       "        text-align: right;\n",
       "    }\n",
       "</style>\n",
       "<table border=\"1\" class=\"dataframe\">\n",
       "  <thead>\n",
       "    <tr style=\"text-align: right;\">\n",
       "      <th></th>\n",
       "      <th>path</th>\n",
       "      <th>ImageId</th>\n",
       "      <th>ImageType</th>\n",
       "      <th>ImageGroup</th>\n",
       "      <th>Stage</th>\n",
       "    </tr>\n",
       "  </thead>\n",
       "  <tbody>\n",
       "    <tr>\n",
       "      <th>16124</th>\n",
       "      <td>../data/stage1_train/ed8c31b001a0c23c33402f94a...</td>\n",
       "      <td>ed8c31b001a0c23c33402f94a5ee6b0209e0c6419eb52d...</td>\n",
       "      <td>masks</td>\n",
       "      <td>train</td>\n",
       "      <td>stage1</td>\n",
       "    </tr>\n",
       "    <tr>\n",
       "      <th>16657</th>\n",
       "      <td>../data/stage1_train/b76ff33ae9da28f9cd8bdce46...</td>\n",
       "      <td>b76ff33ae9da28f9cd8bdce465d45f1eca399db3ffa838...</td>\n",
       "      <td>masks</td>\n",
       "      <td>train</td>\n",
       "      <td>stage1</td>\n",
       "    </tr>\n",
       "  </tbody>\n",
       "</table>\n",
       "</div>"
      ],
      "text/plain": [
       "                                                    path  \\\n",
       "16124  ../data/stage1_train/ed8c31b001a0c23c33402f94a...   \n",
       "16657  ../data/stage1_train/b76ff33ae9da28f9cd8bdce46...   \n",
       "\n",
       "                                                 ImageId ImageType ImageGroup  \\\n",
       "16124  ed8c31b001a0c23c33402f94a5ee6b0209e0c6419eb52d...     masks      train   \n",
       "16657  b76ff33ae9da28f9cd8bdce465d45f1eca399db3ffa838...     masks      train   \n",
       "\n",
       "        Stage  \n",
       "16124  stage1  \n",
       "16657  stage1  "
      ]
     },
     "execution_count": 37,
     "metadata": {},
     "output_type": "execute_result"
    }
   ],
   "source": [
    "img_id = lambda in_path: in_path.split(\"/\")[-3]\n",
    "img_type = lambda in_path: in_path.split(\"/\")[-2]\n",
    "img_group = lambda in_path: in_path.split(\"/\")[-4].split(\"_\")[1]\n",
    "img_stage = lambda in_path: in_path.split(\"/\")[-4].split(\"_\")[0]\n",
    "img_df[\"ImageId\"] = img_df[\"path\"].map(img_id)\n",
    "img_df[\"ImageType\"] = img_df[\"path\"].map(img_type)\n",
    "img_df[\"ImageGroup\"] = img_df[\"path\"].map(img_group)\n",
    "img_df[\"Stage\"] = img_df[\"path\"].map(img_stage)\n",
    "img_df.sample(2)"
   ]
  },
  {
   "cell_type": "code",
   "execution_count": 38,
   "metadata": {},
   "outputs": [
    {
     "data": {
      "text/plain": [
       "array(['train', 'test'], dtype=object)"
      ]
     },
     "execution_count": 38,
     "metadata": {},
     "output_type": "execute_result"
    }
   ],
   "source": [
    "img_df[\"ImageGroup\"].unique()"
   ]
  },
  {
   "cell_type": "code",
   "execution_count": 39,
   "metadata": {},
   "outputs": [
    {
     "data": {
      "text/plain": [
       "array(['masks', 'images'], dtype=object)"
      ]
     },
     "execution_count": 39,
     "metadata": {},
     "output_type": "execute_result"
    }
   ],
   "source": [
    "img_df[\"ImageType\"].unique()"
   ]
  },
  {
   "cell_type": "markdown",
   "metadata": {},
   "source": [
    "### Create training Data\n",
    "- Here we make training data and load all the images into the dataframe. We take a simplification here of grouping all the regions together rather than keeping them distinct"
   ]
  },
  {
   "cell_type": "code",
   "execution_count": 40,
   "metadata": {},
   "outputs": [
    {
     "name": "stdout",
     "output_type": "stream",
     "text": [
      "CPU times: user 28.6 s, sys: 3.61 s, total: 32.2 s\n",
      "Wall time: 35.9 s\n"
     ]
    }
   ],
   "source": [
    "%%time\n",
    "train_df = img_df.query(\"ImageGroup=='train'\")\n",
    "train_rows = []\n",
    "group_cols = [\"Stage\", \"ImageId\"]\n",
    "for n_group, n_rows in train_df.groupby(group_cols):\n",
    "    c_row = {col_name: col_value for col_name, col_value in zip(group_cols, n_group)}\n",
    "#     print(c_row)\n",
    "    c_row[\"masks\"] = n_rows.query(\"ImageType == 'masks'\")[\"path\"].values.tolist()\n",
    "    c_row[\"images\"] = n_rows.query(\"ImageType == 'images'\")[\"path\"].values.tolist()\n",
    "    train_rows += [c_row]\n",
    "train_img_df = pd.DataFrame(train_rows)\n",
    "IMG_CHANNELS = 3\n",
    "def read_and_stack(in_img_list):\n",
    "    return np.sum(np.stack([imread(c_img) for c_img in in_img_list], 0), 0)/255.0\n",
    "train_img_df[\"images\"] = train_img_df[\"images\"].map(read_and_stack).map(lambda x: x[:, :, :IMG_CHANNELS])\n",
    "train_img_df[\"masks\"] = train_img_df[\"masks\"].map(read_and_stack).map(lambda x: x.astype(int))\n",
    "train_img_df.sample(1)"
   ]
  },
  {
   "cell_type": "code",
   "execution_count": 54,
   "metadata": {},
   "outputs": [
    {
     "data": {
      "text/plain": [
       "ImageId    003cee89357d9fe13516167fd67b609a164651b2193458...\n",
       "Stage                                                 stage1\n",
       "images     [[[0.0196078431372549, 0.0196078431372549, 0.0...\n",
       "masks      [[0, 0, 0, 0, 0, 0, 0, 0, 0, 0, 0, 0, 0, 0, 0,...\n",
       "Name: 1, dtype: object"
      ]
     },
     "execution_count": 54,
     "metadata": {},
     "output_type": "execute_result"
    }
   ],
   "source": [
    "train_img_df.iloc[1]"
   ]
  },
  {
   "cell_type": "markdown",
   "metadata": {},
   "source": [
    "### Show a few images\n",
    "Here we show a few images of the cells where we see there is a mixture of brightfield and fluroescence which will probably make using a single segmentation algorithm difficult"
   ]
  },
  {
   "cell_type": "code",
   "execution_count": 72,
   "metadata": {},
   "outputs": [
    {
     "data": {
      "image/png": "[encoded data removed]",
      "text/plain": [
       "<matplotlib.figure.Figure at 0x7f64e6cb2320>"
      ]
     },
     "metadata": {},
     "output_type": "display_data"
    }
   ],
   "source": [
    "n_img = 6\n",
    "fig, m_axis = plt.subplots(2, n_img, figsize = (12, 4))\n",
    "for (_, c_row), (c_im, c_lab) in zip(train_img_df.sample(n_img).iterrows(), m_axis.T):\n",
    "#     print(c_row)\n",
    "    c_im.imshow(c_row[\"images\"])\n",
    "    c_im.axis(\"off\")\n",
    "    c_im.set_title(\"Microscope\")\n",
    "    \n",
    "    c_lab.imshow(c_row[\"masks\"])\n",
    "    c_lab.axis(\"off\")\n",
    "    c_lab.set_title(\"Labeled\")"
   ]
  },
  {
   "cell_type": "code",
   "execution_count": 71,
   "metadata": {
    "scrolled": false
   },
   "outputs": [
    {
     "name": "stdout",
     "output_type": "stream",
     "text": [
      "ImageId    442c4eb0185698fe7d148c108a46f74abd399aecda2f4f...\n",
      "Stage                                                 stage1\n",
      "images     [[[0.6823529411764706, 0.6078431372549019, 0.7...\n",
      "masks      [[0, 0, 0, 0, 0, 0, 0, 0, 0, 0, 0, 0, 0, 0, 0,...\n",
      "Name: 182, dtype: object\n"
     ]
    }
   ],
   "source": [
    "for key, series in train_img_df.sample(6).iterrows():\n",
    "    print(series)\n",
    "    series[\"images\"]\n",
    "    break"
   ]
  },
  {
   "cell_type": "markdown",
   "metadata": {},
   "source": [
    "### Looking at the intensity distribution\n",
    "Here we look briefly at the distribution and see a few groups forming, they should probably be handled seperately"
   ]
  },
  {
   "cell_type": "code",
   "execution_count": 73,
   "metadata": {},
   "outputs": [
    {
     "data": {
      "text/plain": [
       "<seaborn.axisgrid.PairGrid at 0x7f64e6094160>"
      ]
     },
     "execution_count": 73,
     "metadata": {},
     "output_type": "execute_result"
    },
    {
     "data": {
      "image/png": "[encoded data removed]",
      "text/plain": [
       "<matplotlib.figure.Figure at 0x7f64e60941d0>"
      ]
     },
     "metadata": {},
     "output_type": "display_data"
    }
   ],
   "source": [
    "train_img_df[\"Red\"] = train_img_df[\"images\"].map(lambda x: np.mean(x[:, :, 0]))\n",
    "train_img_df[\"Green\"] = train_img_df[\"images\"].map(lambda x: np.mean(x[:, :, 1]))\n",
    "train_img_df[\"Blue\"] = train_img_df[\"images\"].map(lambda x: np.mean(x[:, :, 2]))\n",
    "train_img_df[\"Gray\"] = train_img_df[\"images\"].map(lambda x: np.mean(x))\n",
    "train_img_df[\"Red-Blue\"] = train_img_df[\"images\"].map(lambda x: np.mean(x[:, :, 0] - x[:, :, 2]))\n",
    "sns.pairplot(train_img_df[[\"Gray\", \"Red\", \"Green\", \"Blue\", \"Red-Blue\"]])\n"
   ]
  },
  {
   "cell_type": "markdown",
   "metadata": {},
   "source": [
    "### Check Dimensions\n",
    "Here we show the dimensions of the data to see the variety in the input images"
   ]
  },
  {
   "cell_type": "code",
   "execution_count": 74,
   "metadata": {},
   "outputs": [
    {
     "data": {
      "text/plain": [
       "(256, 256, 3)      334\n",
       "(256, 320, 3)      112\n",
       "(520, 696, 3)       92\n",
       "(360, 360, 3)       91\n",
       "(1024, 1024, 3)     16\n",
       "(512, 640, 3)       13\n",
       "(603, 1272, 3)       6\n",
       "(260, 347, 3)        5\n",
       "(1040, 1388, 3)      1\n",
       "Name: images, dtype: int64"
      ]
     },
     "execution_count": 74,
     "metadata": {},
     "output_type": "execute_result"
    }
   ],
   "source": [
    "train_img_df[\"images\"].map(lambda x: x.shape).value_counts()"
   ]
  },
  {
   "cell_type": "markdown",
   "metadata": {},
   "source": [
    "###### Making a simple CNN\n",
    "Here we make a very simple CNN just to get a quick idea of how well it works. For this we use a batch normalization to normalize the inputs. We cheat a bit with the padding to keep problems simple"
   ]
  },
  {
   "cell_type": "code",
   "execution_count": 80,
   "metadata": {},
   "outputs": [],
   "source": [
    "from keras.models import Sequential\n",
    "from keras.layers import BatchNormalization, Conv2D, UpSampling2D, Lambda"
   ]
  },
  {
   "cell_type": "code",
   "execution_count": 82,
   "metadata": {},
   "outputs": [
    {
     "name": "stdout",
     "output_type": "stream",
     "text": [
      "_________________________________________________________________\n",
      "Layer (type)                 Output Shape              Param #   \n",
      "=================================================================\n",
      "NormalizeInput (BatchNormali (None, None, None, 3)     12        \n",
      "_________________________________________________________________\n",
      "conv2d_1 (Conv2D)            (None, None, None, 8)     224       \n",
      "_________________________________________________________________\n",
      "conv2d_2 (Conv2D)            (None, None, None, 8)     584       \n",
      "_________________________________________________________________\n",
      "conv2d_3 (Conv2D)            (None, None, None, 16)    1168      \n",
      "_________________________________________________________________\n",
      "conv2d_4 (Conv2D)            (None, None, None, 16)    2320      \n",
      "_________________________________________________________________\n",
      "conv2d_5 (Conv2D)            (None, None, None, 32)    4640      \n",
      "_________________________________________________________________\n",
      "conv2d_6 (Conv2D)            (None, None, None, 16)    528       \n",
      "_________________________________________________________________\n",
      "conv2d_7 (Conv2D)            (None, None, None, 1)     17        \n",
      "=================================================================\n",
      "Total params: 9,493\n",
      "Trainable params: 9,487\n",
      "Non-trainable params: 6\n",
      "_________________________________________________________________\n"
     ]
    }
   ],
   "source": [
    "simple_cnn = Sequential()\n",
    "simple_cnn.add(BatchNormalization(input_shape = (None, None, IMG_CHANNELS), name=\"NormalizeInput\"))\n",
    "simple_cnn.add(Conv2D(8, kernel_size=(3, 3), padding=\"same\"))\n",
    "simple_cnn.add(Conv2D(8, kernel_size=(3, 3), padding=\"same\"))\n",
    "# use dilations to get slightly larger field of view\n",
    "simple_cnn.add(Conv2D(16, kernel_size=(3, 3), dilation_rate=2, padding=\"same\"))\n",
    "simple_cnn.add(Conv2D(16, kernel_size=(3, 3), dilation_rate=2, padding=\"same\"))\n",
    "simple_cnn.add(Conv2D(32, kernel_size=(3, 3), dilation_rate=3, padding=\"same\"))\n",
    "\n",
    "#the final processing\n",
    "simple_cnn.add(Conv2D(16, kernel_size=(1, 1), padding=\"same\"))\n",
    "simple_cnn.add(Conv2D(1, kernel_size=(1, 1), padding=\"same\", activation=\"sigmoid\"))\n",
    "simple_cnn.summary()"
   ]
  },
  {
   "cell_type": "markdown",
   "metadata": {},
   "source": [
    "### Loss\n",
    "Since we are being evaluated with intersection over union we can use the inverse of the DICE score as the loss funciton to optimize"
   ]
  },
  {
   "cell_type": "code",
   "execution_count": 84,
   "metadata": {},
   "outputs": [],
   "source": [
    "from keras import backend as K\n",
    "smooth = 1\n",
    "def dice_coef(y_true, y_pred):\n",
    "    y_true_f = K.flatten(y_true)\n",
    "    y_pred_f = K.flatten(y_pred)\n",
    "    intersection = K.sum(y_true_f * y_pred_f)\n",
    "    return (2. * intersection + smooth) / (K.sum(y_true_f) + K.sum(y_pred_f) + smooth)\n",
    "def dice_coef_loss(y_true, y_pred):\n",
    "    return -dice_coef(y_true, y_pred)\n",
    "simple_cnn.compile(optimizer=\"adam\", loss=dice_coef_loss, metrics=[dice_coef, \"acc\", \"mse\"])"
   ]
  },
  {
   "cell_type": "markdown",
   "metadata": {},
   "source": [
    "### Simple Training"
   ]
  },
  {
   "cell_type": "markdown",
   "metadata": {},
   "source": [
    "Here we run a simple training, with each image being it's own batch (not a very good idea) but it keeps the code simple"
   ]
  },
  {
   "cell_type": "code",
   "execution_count": 86,
   "metadata": {},
   "outputs": [
    {
     "name": "stdout",
     "output_type": "stream",
     "text": [
      "Epoch 1/3\n",
      "670/670 [==============================] - 58s 87ms/step - loss: -0.7088 - dice_coef: 0.7088 - acc: 0.8814 - mean_squared_error: 0.1127\n",
      "Epoch 2/3\n",
      "670/670 [==============================] - 50s 75ms/step - loss: -0.7983 - dice_coef: 0.7983 - acc: 0.9297 - mean_squared_error: 0.0684\n",
      "Epoch 3/3\n",
      "670/670 [==============================] - 52s 78ms/step - loss: -0.8024 - dice_coef: 0.8024 - acc: 0.9311 - mean_squared_error: 0.0677\n"
     ]
    },
    {
     "data": {
      "text/plain": [
       "<keras.callbacks.History at 0x7f6441d55a58>"
      ]
     },
     "execution_count": 86,
     "metadata": {},
     "output_type": "execute_result"
    }
   ],
   "source": [
    "def simple_gen():\n",
    "    while True:\n",
    "        for _, c_row in train_img_df.iterrows():\n",
    "            yield np.expand_dims(c_row[\"images\"], 0), np.expand_dims(np.expand_dims(c_row[\"masks\"], -1), 0)\n",
    "            \n",
    "simple_cnn.fit_generator(simple_gen(),\n",
    "                        steps_per_epoch=train_img_df.shape[0],\n",
    "                        epochs=3)"
   ]
  },
  {
   "cell_type": "markdown",
   "metadata": {},
   "source": [
    "### Apply Model to Test\n",
    "Here we apply model to the test data"
   ]
  },
  {
   "cell_type": "code",
   "execution_count": 89,
   "metadata": {},
   "outputs": [
    {
     "name": "stdout",
     "output_type": "stream",
     "text": [
      "CPU times: user 8.89 ms, sys: 156 µs, total: 9.05 ms\n",
      "Wall time: 8.05 ms\n"
     ]
    }
   ],
   "source": [
    "%%time\n",
    "test_df = img_df.query(\"ImageGroup=='test'\")\n",
    "test_rows = []\n",
    "group_cols = [\"Stage\"]"
   ]
  },
  {
   "cell_type": "code",
   "execution_count": 90,
   "metadata": {},
   "outputs": [
    {
     "data": {
      "text/html": [
       "<div>\n",
       "<style scoped>\n",
       "    .dataframe tbody tr th:only-of-type {\n",
       "        vertical-align: middle;\n",
       "    }\n",
       "\n",
       "    .dataframe tbody tr th {\n",
       "        vertical-align: top;\n",
       "    }\n",
       "\n",
       "    .dataframe thead th {\n",
       "        text-align: right;\n",
       "    }\n",
       "</style>\n",
       "<table border=\"1\" class=\"dataframe\">\n",
       "  <thead>\n",
       "    <tr style=\"text-align: right;\">\n",
       "      <th></th>\n",
       "      <th>path</th>\n",
       "      <th>ImageId</th>\n",
       "      <th>ImageType</th>\n",
       "      <th>ImageGroup</th>\n",
       "      <th>Stage</th>\n",
       "    </tr>\n",
       "  </thead>\n",
       "  <tbody>\n",
       "    <tr>\n",
       "      <th>30131</th>\n",
       "      <td>../data/stage1_test/df40099c6306ca1f47fcc8a62e...</td>\n",
       "      <td>df40099c6306ca1f47fcc8a62e2fa39486d4e223177afd...</td>\n",
       "      <td>images</td>\n",
       "      <td>test</td>\n",
       "      <td>stage1</td>\n",
       "    </tr>\n",
       "    <tr>\n",
       "      <th>30132</th>\n",
       "      <td>../data/stage1_test/9f17aea854db13015d19b34cb2...</td>\n",
       "      <td>9f17aea854db13015d19b34cb2022cfdeda44133323fcd...</td>\n",
       "      <td>images</td>\n",
       "      <td>test</td>\n",
       "      <td>stage1</td>\n",
       "    </tr>\n",
       "    <tr>\n",
       "      <th>30133</th>\n",
       "      <td>../data/stage1_test/648c8ffa496e1716017906d0bf...</td>\n",
       "      <td>648c8ffa496e1716017906d0bf135debfc93386ae86aa3...</td>\n",
       "      <td>images</td>\n",
       "      <td>test</td>\n",
       "      <td>stage1</td>\n",
       "    </tr>\n",
       "    <tr>\n",
       "      <th>30134</th>\n",
       "      <td>../data/stage1_test/a4816cc1fb76cb3c5e48118683...</td>\n",
       "      <td>a4816cc1fb76cb3c5e481186833fc0ae9cf426a1406a26...</td>\n",
       "      <td>images</td>\n",
       "      <td>test</td>\n",
       "      <td>stage1</td>\n",
       "    </tr>\n",
       "    <tr>\n",
       "      <th>30135</th>\n",
       "      <td>../data/stage1_test/44afae184c89e6ba55985b4d34...</td>\n",
       "      <td>44afae184c89e6ba55985b4d341acc1ae1e8b6ef963120...</td>\n",
       "      <td>images</td>\n",
       "      <td>test</td>\n",
       "      <td>stage1</td>\n",
       "    </tr>\n",
       "    <tr>\n",
       "      <th>30136</th>\n",
       "      <td>../data/stage1_test/1ef68e93964c2d9230100c1347...</td>\n",
       "      <td>1ef68e93964c2d9230100c1347c328f6385a7bc027879d...</td>\n",
       "      <td>images</td>\n",
       "      <td>test</td>\n",
       "      <td>stage1</td>\n",
       "    </tr>\n",
       "    <tr>\n",
       "      <th>30137</th>\n",
       "      <td>../data/stage1_test/7f4cbe0b36b5d09466476a7d4e...</td>\n",
       "      <td>7f4cbe0b36b5d09466476a7d4e01f4f976c67872d549f4...</td>\n",
       "      <td>images</td>\n",
       "      <td>test</td>\n",
       "      <td>stage1</td>\n",
       "    </tr>\n",
       "    <tr>\n",
       "      <th>30138</th>\n",
       "      <td>../data/stage1_test/53df5150ee56253fe5bc91a923...</td>\n",
       "      <td>53df5150ee56253fe5bc91a9230d377bb21f1300f443ba...</td>\n",
       "      <td>images</td>\n",
       "      <td>test</td>\n",
       "      <td>stage1</td>\n",
       "    </tr>\n",
       "    <tr>\n",
       "      <th>30139</th>\n",
       "      <td>../data/stage1_test/519dc0d672d1c295fc69b629af...</td>\n",
       "      <td>519dc0d672d1c295fc69b629af8721ccb1a1f136d19766...</td>\n",
       "      <td>images</td>\n",
       "      <td>test</td>\n",
       "      <td>stage1</td>\n",
       "    </tr>\n",
       "    <tr>\n",
       "      <th>30140</th>\n",
       "      <td>../data/stage1_test/f0d0ab13ff53adc3c4d57e95a5...</td>\n",
       "      <td>f0d0ab13ff53adc3c4d57e95a5f83d80b06f2cbc0bf002...</td>\n",
       "      <td>images</td>\n",
       "      <td>test</td>\n",
       "      <td>stage1</td>\n",
       "    </tr>\n",
       "    <tr>\n",
       "      <th>30141</th>\n",
       "      <td>../data/stage1_test/f5effed21f671bbf4551ecebb7...</td>\n",
       "      <td>f5effed21f671bbf4551ecebb7fe95f3be1cf09c16a60a...</td>\n",
       "      <td>images</td>\n",
       "      <td>test</td>\n",
       "      <td>stage1</td>\n",
       "    </tr>\n",
       "    <tr>\n",
       "      <th>30142</th>\n",
       "      <td>../data/stage1_test/472b1c5ff988dadc209faea924...</td>\n",
       "      <td>472b1c5ff988dadc209faea92499bc07f305208dbda29d...</td>\n",
       "      <td>images</td>\n",
       "      <td>test</td>\n",
       "      <td>stage1</td>\n",
       "    </tr>\n",
       "    <tr>\n",
       "      <th>30143</th>\n",
       "      <td>../data/stage1_test/259b35151d4a7a5ffdd7ab7f17...</td>\n",
       "      <td>259b35151d4a7a5ffdd7ab7f171b142db8cfe40beeee67...</td>\n",
       "      <td>images</td>\n",
       "      <td>test</td>\n",
       "      <td>stage1</td>\n",
       "    </tr>\n",
       "    <tr>\n",
       "      <th>30144</th>\n",
       "      <td>../data/stage1_test/0999dab07b11bc85fb8464fc36...</td>\n",
       "      <td>0999dab07b11bc85fb8464fc36c947fbd8b5d6ec498173...</td>\n",
       "      <td>images</td>\n",
       "      <td>test</td>\n",
       "      <td>stage1</td>\n",
       "    </tr>\n",
       "    <tr>\n",
       "      <th>30145</th>\n",
       "      <td>../data/stage1_test/52b267e20519174e3ce1e1994b...</td>\n",
       "      <td>52b267e20519174e3ce1e1994b5d677804b16bc670aa5f...</td>\n",
       "      <td>images</td>\n",
       "      <td>test</td>\n",
       "      <td>stage1</td>\n",
       "    </tr>\n",
       "    <tr>\n",
       "      <th>30146</th>\n",
       "      <td>../data/stage1_test/e17b7aedd251a016c01ef9158e...</td>\n",
       "      <td>e17b7aedd251a016c01ef9158e6e4aa940d9f1b35942d8...</td>\n",
       "      <td>images</td>\n",
       "      <td>test</td>\n",
       "      <td>stage1</td>\n",
       "    </tr>\n",
       "    <tr>\n",
       "      <th>30147</th>\n",
       "      <td>../data/stage1_test/4f949bd8d914bbfa06f40d6a0e...</td>\n",
       "      <td>4f949bd8d914bbfa06f40d6a0e2b5b75c38bf53dbcbafc...</td>\n",
       "      <td>images</td>\n",
       "      <td>test</td>\n",
       "      <td>stage1</td>\n",
       "    </tr>\n",
       "    <tr>\n",
       "      <th>30148</th>\n",
       "      <td>../data/stage1_test/3c4c675825f7509877bc10497f...</td>\n",
       "      <td>3c4c675825f7509877bc10497f498c9a2e3433bf922bd8...</td>\n",
       "      <td>images</td>\n",
       "      <td>test</td>\n",
       "      <td>stage1</td>\n",
       "    </tr>\n",
       "    <tr>\n",
       "      <th>30149</th>\n",
       "      <td>../data/stage1_test/1962d0c5faf3e85cda80e0578e...</td>\n",
       "      <td>1962d0c5faf3e85cda80e0578e0cb7aca50826d781620e...</td>\n",
       "      <td>images</td>\n",
       "      <td>test</td>\n",
       "      <td>stage1</td>\n",
       "    </tr>\n",
       "    <tr>\n",
       "      <th>30150</th>\n",
       "      <td>../data/stage1_test/191b2b2205f2f5cc9da04702c5...</td>\n",
       "      <td>191b2b2205f2f5cc9da04702c5d422bc249faf8bca1107...</td>\n",
       "      <td>images</td>\n",
       "      <td>test</td>\n",
       "      <td>stage1</td>\n",
       "    </tr>\n",
       "    <tr>\n",
       "      <th>30151</th>\n",
       "      <td>../data/stage1_test/295682d9eb5acb5c1976a460c0...</td>\n",
       "      <td>295682d9eb5acb5c1976a460c085734bfaf38482b0a3f0...</td>\n",
       "      <td>images</td>\n",
       "      <td>test</td>\n",
       "      <td>stage1</td>\n",
       "    </tr>\n",
       "    <tr>\n",
       "      <th>30152</th>\n",
       "      <td>../data/stage1_test/8b59819fbc92eefe45b1db95c0...</td>\n",
       "      <td>8b59819fbc92eefe45b1db95c0cc3a467ddcfc755684c7...</td>\n",
       "      <td>images</td>\n",
       "      <td>test</td>\n",
       "      <td>stage1</td>\n",
       "    </tr>\n",
       "    <tr>\n",
       "      <th>30153</th>\n",
       "      <td>../data/stage1_test/b83d1d77935b6cfd44105b5460...</td>\n",
       "      <td>b83d1d77935b6cfd44105b54600ffc4b6bd82de57dec65...</td>\n",
       "      <td>images</td>\n",
       "      <td>test</td>\n",
       "      <td>stage1</td>\n",
       "    </tr>\n",
       "    <tr>\n",
       "      <th>30154</th>\n",
       "      <td>../data/stage1_test/dab46d798d29aff2e99c23f47e...</td>\n",
       "      <td>dab46d798d29aff2e99c23f47ed3064f5cafb1644629b0...</td>\n",
       "      <td>images</td>\n",
       "      <td>test</td>\n",
       "      <td>stage1</td>\n",
       "    </tr>\n",
       "    <tr>\n",
       "      <th>30155</th>\n",
       "      <td>../data/stage1_test/ade080c6618cbbb0a25680cf84...</td>\n",
       "      <td>ade080c6618cbbb0a25680cf847f312b5e19b22bfe1caf...</td>\n",
       "      <td>images</td>\n",
       "      <td>test</td>\n",
       "      <td>stage1</td>\n",
       "    </tr>\n",
       "    <tr>\n",
       "      <th>30156</th>\n",
       "      <td>../data/stage1_test/fac507fa4d1649e8b24c195d99...</td>\n",
       "      <td>fac507fa4d1649e8b24c195d990f1fc3ca3633d917839e...</td>\n",
       "      <td>images</td>\n",
       "      <td>test</td>\n",
       "      <td>stage1</td>\n",
       "    </tr>\n",
       "    <tr>\n",
       "      <th>30157</th>\n",
       "      <td>../data/stage1_test/a984e7fb886aa02e29d112766d...</td>\n",
       "      <td>a984e7fb886aa02e29d112766d3ce26a4f78eac540ce7b...</td>\n",
       "      <td>images</td>\n",
       "      <td>test</td>\n",
       "      <td>stage1</td>\n",
       "    </tr>\n",
       "    <tr>\n",
       "      <th>30158</th>\n",
       "      <td>../data/stage1_test/ab298b962a63e4be9582513aaa...</td>\n",
       "      <td>ab298b962a63e4be9582513aaa84a5e270adba5fd2b16a...</td>\n",
       "      <td>images</td>\n",
       "      <td>test</td>\n",
       "      <td>stage1</td>\n",
       "    </tr>\n",
       "    <tr>\n",
       "      <th>30159</th>\n",
       "      <td>../data/stage1_test/912a679e4b9b1d1a75170254fd...</td>\n",
       "      <td>912a679e4b9b1d1a75170254fd675b8c24b664d80ad7ea...</td>\n",
       "      <td>images</td>\n",
       "      <td>test</td>\n",
       "      <td>stage1</td>\n",
       "    </tr>\n",
       "    <tr>\n",
       "      <th>30160</th>\n",
       "      <td>../data/stage1_test/5cee644e5ffbef1ba021c7f389...</td>\n",
       "      <td>5cee644e5ffbef1ba021c7f389b33bafd3b1841f04d3ed...</td>\n",
       "      <td>images</td>\n",
       "      <td>test</td>\n",
       "      <td>stage1</td>\n",
       "    </tr>\n",
       "    <tr>\n",
       "      <th>...</th>\n",
       "      <td>...</td>\n",
       "      <td>...</td>\n",
       "      <td>...</td>\n",
       "      <td>...</td>\n",
       "      <td>...</td>\n",
       "    </tr>\n",
       "    <tr>\n",
       "      <th>30166</th>\n",
       "      <td>../data/stage1_test/699f2992cd71e2e28cf45f8134...</td>\n",
       "      <td>699f2992cd71e2e28cf45f81347ff22e76b37541ce8808...</td>\n",
       "      <td>images</td>\n",
       "      <td>test</td>\n",
       "      <td>stage1</td>\n",
       "    </tr>\n",
       "    <tr>\n",
       "      <th>30167</th>\n",
       "      <td>../data/stage1_test/d616d323a9eeb9da1b66f8d5df...</td>\n",
       "      <td>d616d323a9eeb9da1b66f8d5df671d63c092c9919cb2c0...</td>\n",
       "      <td>images</td>\n",
       "      <td>test</td>\n",
       "      <td>stage1</td>\n",
       "    </tr>\n",
       "    <tr>\n",
       "      <th>30168</th>\n",
       "      <td>../data/stage1_test/0a849e0eb15faa8a6d7329c3dd...</td>\n",
       "      <td>0a849e0eb15faa8a6d7329c3dd66aabe9a294cccb52ed3...</td>\n",
       "      <td>images</td>\n",
       "      <td>test</td>\n",
       "      <td>stage1</td>\n",
       "    </tr>\n",
       "    <tr>\n",
       "      <th>30169</th>\n",
       "      <td>../data/stage1_test/1d9eacb3161f1e2b45550389ec...</td>\n",
       "      <td>1d9eacb3161f1e2b45550389ecf7c535c7199c6b44b1c6...</td>\n",
       "      <td>images</td>\n",
       "      <td>test</td>\n",
       "      <td>stage1</td>\n",
       "    </tr>\n",
       "    <tr>\n",
       "      <th>30170</th>\n",
       "      <td>../data/stage1_test/4727d94c6a57ed484270fdd8bb...</td>\n",
       "      <td>4727d94c6a57ed484270fdd8bbc6e3d5f2f15d5476794a...</td>\n",
       "      <td>images</td>\n",
       "      <td>test</td>\n",
       "      <td>stage1</td>\n",
       "    </tr>\n",
       "    <tr>\n",
       "      <th>30171</th>\n",
       "      <td>../data/stage1_test/0e132f71c8b4875c3c2dd7a229...</td>\n",
       "      <td>0e132f71c8b4875c3c2dd7a22997468a3e842b46aa9bd4...</td>\n",
       "      <td>images</td>\n",
       "      <td>test</td>\n",
       "      <td>stage1</td>\n",
       "    </tr>\n",
       "    <tr>\n",
       "      <th>30172</th>\n",
       "      <td>../data/stage1_test/0f1f896d9ae5a04752d3239c69...</td>\n",
       "      <td>0f1f896d9ae5a04752d3239c690402c022db4d72c0d2c0...</td>\n",
       "      <td>images</td>\n",
       "      <td>test</td>\n",
       "      <td>stage1</td>\n",
       "    </tr>\n",
       "    <tr>\n",
       "      <th>30173</th>\n",
       "      <td>../data/stage1_test/bdc789019cee8ddfae20d5f769...</td>\n",
       "      <td>bdc789019cee8ddfae20d5f769299993b4b330b2d38d12...</td>\n",
       "      <td>images</td>\n",
       "      <td>test</td>\n",
       "      <td>stage1</td>\n",
       "    </tr>\n",
       "    <tr>\n",
       "      <th>30174</th>\n",
       "      <td>../data/stage1_test/1cdbfee1951356e7b0a2150738...</td>\n",
       "      <td>1cdbfee1951356e7b0a215073828695fe1ead5f8b1add1...</td>\n",
       "      <td>images</td>\n",
       "      <td>test</td>\n",
       "      <td>stage1</td>\n",
       "    </tr>\n",
       "    <tr>\n",
       "      <th>30175</th>\n",
       "      <td>../data/stage1_test/0114f484a16c152baa2d82fdd4...</td>\n",
       "      <td>0114f484a16c152baa2d82fdd43740880a762c93f436c8...</td>\n",
       "      <td>images</td>\n",
       "      <td>test</td>\n",
       "      <td>stage1</td>\n",
       "    </tr>\n",
       "    <tr>\n",
       "      <th>30176</th>\n",
       "      <td>../data/stage1_test/eea70a7948d25a9a791dbcb392...</td>\n",
       "      <td>eea70a7948d25a9a791dbcb39228af4ea4049fe5ebdee9...</td>\n",
       "      <td>images</td>\n",
       "      <td>test</td>\n",
       "      <td>stage1</td>\n",
       "    </tr>\n",
       "    <tr>\n",
       "      <th>30177</th>\n",
       "      <td>../data/stage1_test/0ed3555a4bd48046d3b63d8baf...</td>\n",
       "      <td>0ed3555a4bd48046d3b63d8baf03a5aa97e523aa483aaa...</td>\n",
       "      <td>images</td>\n",
       "      <td>test</td>\n",
       "      <td>stage1</td>\n",
       "    </tr>\n",
       "    <tr>\n",
       "      <th>30178</th>\n",
       "      <td>../data/stage1_test/505bc0a3928d8aef5ce441c5a6...</td>\n",
       "      <td>505bc0a3928d8aef5ce441c5a611fdd32e1e8eccdc15cc...</td>\n",
       "      <td>images</td>\n",
       "      <td>test</td>\n",
       "      <td>stage1</td>\n",
       "    </tr>\n",
       "    <tr>\n",
       "      <th>30179</th>\n",
       "      <td>../data/stage1_test/51c70bb8a299943b27f8b35457...</td>\n",
       "      <td>51c70bb8a299943b27f8b354571272692d8f2705036a1a...</td>\n",
       "      <td>images</td>\n",
       "      <td>test</td>\n",
       "      <td>stage1</td>\n",
       "    </tr>\n",
       "    <tr>\n",
       "      <th>30180</th>\n",
       "      <td>../data/stage1_test/38f5cfb55fc8b048e82a5c895b...</td>\n",
       "      <td>38f5cfb55fc8b048e82a5c895b25fefae7a70c71ab9990...</td>\n",
       "      <td>images</td>\n",
       "      <td>test</td>\n",
       "      <td>stage1</td>\n",
       "    </tr>\n",
       "    <tr>\n",
       "      <th>30181</th>\n",
       "      <td>../data/stage1_test/d8d4bf68a76e4e4c5f21de7ac6...</td>\n",
       "      <td>d8d4bf68a76e4e4c5f21de7ac613451f7115a04db68615...</td>\n",
       "      <td>images</td>\n",
       "      <td>test</td>\n",
       "      <td>stage1</td>\n",
       "    </tr>\n",
       "    <tr>\n",
       "      <th>30182</th>\n",
       "      <td>../data/stage1_test/550450e4bff4036fd671decdc5...</td>\n",
       "      <td>550450e4bff4036fd671decdc5d42fec23578198d6a2fd...</td>\n",
       "      <td>images</td>\n",
       "      <td>test</td>\n",
       "      <td>stage1</td>\n",
       "    </tr>\n",
       "    <tr>\n",
       "      <th>30183</th>\n",
       "      <td>../data/stage1_test/1747f62148a919c8feb6d607fa...</td>\n",
       "      <td>1747f62148a919c8feb6d607faeebdf504b5e2ad42b6b1...</td>\n",
       "      <td>images</td>\n",
       "      <td>test</td>\n",
       "      <td>stage1</td>\n",
       "    </tr>\n",
       "    <tr>\n",
       "      <th>30184</th>\n",
       "      <td>../data/stage1_test/fe9adb627a6f45747c5a8223b6...</td>\n",
       "      <td>fe9adb627a6f45747c5a8223b671774791ededf9364f65...</td>\n",
       "      <td>images</td>\n",
       "      <td>test</td>\n",
       "      <td>stage1</td>\n",
       "    </tr>\n",
       "    <tr>\n",
       "      <th>30185</th>\n",
       "      <td>../data/stage1_test/8922a6ac8fd0258ec27738ca10...</td>\n",
       "      <td>8922a6ac8fd0258ec27738ca101867169b20d90a60fc84...</td>\n",
       "      <td>images</td>\n",
       "      <td>test</td>\n",
       "      <td>stage1</td>\n",
       "    </tr>\n",
       "    <tr>\n",
       "      <th>30186</th>\n",
       "      <td>../data/stage1_test/78a981bd27ba0c65a916954866...</td>\n",
       "      <td>78a981bd27ba0c65a9169548665a17bda9f49050d0d389...</td>\n",
       "      <td>images</td>\n",
       "      <td>test</td>\n",
       "      <td>stage1</td>\n",
       "    </tr>\n",
       "    <tr>\n",
       "      <th>30187</th>\n",
       "      <td>../data/stage1_test/7bdb668e6127b7eafc837a883f...</td>\n",
       "      <td>7bdb668e6127b7eafc837a883f0648002bd063c736f55a...</td>\n",
       "      <td>images</td>\n",
       "      <td>test</td>\n",
       "      <td>stage1</td>\n",
       "    </tr>\n",
       "    <tr>\n",
       "      <th>30188</th>\n",
       "      <td>../data/stage1_test/31f1fbe85b8899258ea5bcf5f9...</td>\n",
       "      <td>31f1fbe85b8899258ea5bcf5f93f7ac8238660c386aeab...</td>\n",
       "      <td>images</td>\n",
       "      <td>test</td>\n",
       "      <td>stage1</td>\n",
       "    </tr>\n",
       "    <tr>\n",
       "      <th>30189</th>\n",
       "      <td>../data/stage1_test/432f367a4c5b5674de2e297774...</td>\n",
       "      <td>432f367a4c5b5674de2e2977744d10289a064e5704b21a...</td>\n",
       "      <td>images</td>\n",
       "      <td>test</td>\n",
       "      <td>stage1</td>\n",
       "    </tr>\n",
       "    <tr>\n",
       "      <th>30190</th>\n",
       "      <td>../data/stage1_test/d6eb7ce7723e2f6dc13b90b41a...</td>\n",
       "      <td>d6eb7ce7723e2f6dc13b90b41a29ded27dbd815bad633f...</td>\n",
       "      <td>images</td>\n",
       "      <td>test</td>\n",
       "      <td>stage1</td>\n",
       "    </tr>\n",
       "    <tr>\n",
       "      <th>30191</th>\n",
       "      <td>../data/stage1_test/da6c593410340b19bb212b9f6d...</td>\n",
       "      <td>da6c593410340b19bb212b9f6d274f95b08c0fc8f2570c...</td>\n",
       "      <td>images</td>\n",
       "      <td>test</td>\n",
       "      <td>stage1</td>\n",
       "    </tr>\n",
       "    <tr>\n",
       "      <th>30192</th>\n",
       "      <td>../data/stage1_test/4be73d68f433869188fe5e7f09...</td>\n",
       "      <td>4be73d68f433869188fe5e7f09c7f681ed51003da6aa5d...</td>\n",
       "      <td>images</td>\n",
       "      <td>test</td>\n",
       "      <td>stage1</td>\n",
       "    </tr>\n",
       "    <tr>\n",
       "      <th>30193</th>\n",
       "      <td>../data/stage1_test/43a71aeb641faa18742cb82677...</td>\n",
       "      <td>43a71aeb641faa18742cb826772a8566c6c947d7050f9a...</td>\n",
       "      <td>images</td>\n",
       "      <td>test</td>\n",
       "      <td>stage1</td>\n",
       "    </tr>\n",
       "    <tr>\n",
       "      <th>30194</th>\n",
       "      <td>../data/stage1_test/336d3e4105766f8ad328a7ee95...</td>\n",
       "      <td>336d3e4105766f8ad328a7ee9571e743f376f8cbcf6a96...</td>\n",
       "      <td>images</td>\n",
       "      <td>test</td>\n",
       "      <td>stage1</td>\n",
       "    </tr>\n",
       "    <tr>\n",
       "      <th>30195</th>\n",
       "      <td>../data/stage1_test/ca20076870e8fb604e61802605...</td>\n",
       "      <td>ca20076870e8fb604e61802605a9ac45419c82dd3e2340...</td>\n",
       "      <td>images</td>\n",
       "      <td>test</td>\n",
       "      <td>stage1</td>\n",
       "    </tr>\n",
       "  </tbody>\n",
       "</table>\n",
       "<p>65 rows × 5 columns</p>\n",
       "</div>"
      ],
      "text/plain": [
       "                                                    path  \\\n",
       "30131  ../data/stage1_test/df40099c6306ca1f47fcc8a62e...   \n",
       "30132  ../data/stage1_test/9f17aea854db13015d19b34cb2...   \n",
       "30133  ../data/stage1_test/648c8ffa496e1716017906d0bf...   \n",
       "30134  ../data/stage1_test/a4816cc1fb76cb3c5e48118683...   \n",
       "30135  ../data/stage1_test/44afae184c89e6ba55985b4d34...   \n",
       "30136  ../data/stage1_test/1ef68e93964c2d9230100c1347...   \n",
       "30137  ../data/stage1_test/7f4cbe0b36b5d09466476a7d4e...   \n",
       "30138  ../data/stage1_test/53df5150ee56253fe5bc91a923...   \n",
       "30139  ../data/stage1_test/519dc0d672d1c295fc69b629af...   \n",
       "30140  ../data/stage1_test/f0d0ab13ff53adc3c4d57e95a5...   \n",
       "30141  ../data/stage1_test/f5effed21f671bbf4551ecebb7...   \n",
       "30142  ../data/stage1_test/472b1c5ff988dadc209faea924...   \n",
       "30143  ../data/stage1_test/259b35151d4a7a5ffdd7ab7f17...   \n",
       "30144  ../data/stage1_test/0999dab07b11bc85fb8464fc36...   \n",
       "30145  ../data/stage1_test/52b267e20519174e3ce1e1994b...   \n",
       "30146  ../data/stage1_test/e17b7aedd251a016c01ef9158e...   \n",
       "30147  ../data/stage1_test/4f949bd8d914bbfa06f40d6a0e...   \n",
       "30148  ../data/stage1_test/3c4c675825f7509877bc10497f...   \n",
       "30149  ../data/stage1_test/1962d0c5faf3e85cda80e0578e...   \n",
       "30150  ../data/stage1_test/191b2b2205f2f5cc9da04702c5...   \n",
       "30151  ../data/stage1_test/295682d9eb5acb5c1976a460c0...   \n",
       "30152  ../data/stage1_test/8b59819fbc92eefe45b1db95c0...   \n",
       "30153  ../data/stage1_test/b83d1d77935b6cfd44105b5460...   \n",
       "30154  ../data/stage1_test/dab46d798d29aff2e99c23f47e...   \n",
       "30155  ../data/stage1_test/ade080c6618cbbb0a25680cf84...   \n",
       "30156  ../data/stage1_test/fac507fa4d1649e8b24c195d99...   \n",
       "30157  ../data/stage1_test/a984e7fb886aa02e29d112766d...   \n",
       "30158  ../data/stage1_test/ab298b962a63e4be9582513aaa...   \n",
       "30159  ../data/stage1_test/912a679e4b9b1d1a75170254fd...   \n",
       "30160  ../data/stage1_test/5cee644e5ffbef1ba021c7f389...   \n",
       "...                                                  ...   \n",
       "30166  ../data/stage1_test/699f2992cd71e2e28cf45f8134...   \n",
       "30167  ../data/stage1_test/d616d323a9eeb9da1b66f8d5df...   \n",
       "30168  ../data/stage1_test/0a849e0eb15faa8a6d7329c3dd...   \n",
       "30169  ../data/stage1_test/1d9eacb3161f1e2b45550389ec...   \n",
       "30170  ../data/stage1_test/4727d94c6a57ed484270fdd8bb...   \n",
       "30171  ../data/stage1_test/0e132f71c8b4875c3c2dd7a229...   \n",
       "30172  ../data/stage1_test/0f1f896d9ae5a04752d3239c69...   \n",
       "30173  ../data/stage1_test/bdc789019cee8ddfae20d5f769...   \n",
       "30174  ../data/stage1_test/1cdbfee1951356e7b0a2150738...   \n",
       "30175  ../data/stage1_test/0114f484a16c152baa2d82fdd4...   \n",
       "30176  ../data/stage1_test/eea70a7948d25a9a791dbcb392...   \n",
       "30177  ../data/stage1_test/0ed3555a4bd48046d3b63d8baf...   \n",
       "30178  ../data/stage1_test/505bc0a3928d8aef5ce441c5a6...   \n",
       "30179  ../data/stage1_test/51c70bb8a299943b27f8b35457...   \n",
       "30180  ../data/stage1_test/38f5cfb55fc8b048e82a5c895b...   \n",
       "30181  ../data/stage1_test/d8d4bf68a76e4e4c5f21de7ac6...   \n",
       "30182  ../data/stage1_test/550450e4bff4036fd671decdc5...   \n",
       "30183  ../data/stage1_test/1747f62148a919c8feb6d607fa...   \n",
       "30184  ../data/stage1_test/fe9adb627a6f45747c5a8223b6...   \n",
       "30185  ../data/stage1_test/8922a6ac8fd0258ec27738ca10...   \n",
       "30186  ../data/stage1_test/78a981bd27ba0c65a916954866...   \n",
       "30187  ../data/stage1_test/7bdb668e6127b7eafc837a883f...   \n",
       "30188  ../data/stage1_test/31f1fbe85b8899258ea5bcf5f9...   \n",
       "30189  ../data/stage1_test/432f367a4c5b5674de2e297774...   \n",
       "30190  ../data/stage1_test/d6eb7ce7723e2f6dc13b90b41a...   \n",
       "30191  ../data/stage1_test/da6c593410340b19bb212b9f6d...   \n",
       "30192  ../data/stage1_test/4be73d68f433869188fe5e7f09...   \n",
       "30193  ../data/stage1_test/43a71aeb641faa18742cb82677...   \n",
       "30194  ../data/stage1_test/336d3e4105766f8ad328a7ee95...   \n",
       "30195  ../data/stage1_test/ca20076870e8fb604e61802605...   \n",
       "\n",
       "                                                 ImageId ImageType ImageGroup  \\\n",
       "30131  df40099c6306ca1f47fcc8a62e2fa39486d4e223177afd...    images       test   \n",
       "30132  9f17aea854db13015d19b34cb2022cfdeda44133323fcd...    images       test   \n",
       "30133  648c8ffa496e1716017906d0bf135debfc93386ae86aa3...    images       test   \n",
       "30134  a4816cc1fb76cb3c5e481186833fc0ae9cf426a1406a26...    images       test   \n",
       "30135  44afae184c89e6ba55985b4d341acc1ae1e8b6ef963120...    images       test   \n",
       "30136  1ef68e93964c2d9230100c1347c328f6385a7bc027879d...    images       test   \n",
       "30137  7f4cbe0b36b5d09466476a7d4e01f4f976c67872d549f4...    images       test   \n",
       "30138  53df5150ee56253fe5bc91a9230d377bb21f1300f443ba...    images       test   \n",
       "30139  519dc0d672d1c295fc69b629af8721ccb1a1f136d19766...    images       test   \n",
       "30140  f0d0ab13ff53adc3c4d57e95a5f83d80b06f2cbc0bf002...    images       test   \n",
       "30141  f5effed21f671bbf4551ecebb7fe95f3be1cf09c16a60a...    images       test   \n",
       "30142  472b1c5ff988dadc209faea92499bc07f305208dbda29d...    images       test   \n",
       "30143  259b35151d4a7a5ffdd7ab7f171b142db8cfe40beeee67...    images       test   \n",
       "30144  0999dab07b11bc85fb8464fc36c947fbd8b5d6ec498173...    images       test   \n",
       "30145  52b267e20519174e3ce1e1994b5d677804b16bc670aa5f...    images       test   \n",
       "30146  e17b7aedd251a016c01ef9158e6e4aa940d9f1b35942d8...    images       test   \n",
       "30147  4f949bd8d914bbfa06f40d6a0e2b5b75c38bf53dbcbafc...    images       test   \n",
       "30148  3c4c675825f7509877bc10497f498c9a2e3433bf922bd8...    images       test   \n",
       "30149  1962d0c5faf3e85cda80e0578e0cb7aca50826d781620e...    images       test   \n",
       "30150  191b2b2205f2f5cc9da04702c5d422bc249faf8bca1107...    images       test   \n",
       "30151  295682d9eb5acb5c1976a460c085734bfaf38482b0a3f0...    images       test   \n",
       "30152  8b59819fbc92eefe45b1db95c0cc3a467ddcfc755684c7...    images       test   \n",
       "30153  b83d1d77935b6cfd44105b54600ffc4b6bd82de57dec65...    images       test   \n",
       "30154  dab46d798d29aff2e99c23f47ed3064f5cafb1644629b0...    images       test   \n",
       "30155  ade080c6618cbbb0a25680cf847f312b5e19b22bfe1caf...    images       test   \n",
       "30156  fac507fa4d1649e8b24c195d990f1fc3ca3633d917839e...    images       test   \n",
       "30157  a984e7fb886aa02e29d112766d3ce26a4f78eac540ce7b...    images       test   \n",
       "30158  ab298b962a63e4be9582513aaa84a5e270adba5fd2b16a...    images       test   \n",
       "30159  912a679e4b9b1d1a75170254fd675b8c24b664d80ad7ea...    images       test   \n",
       "30160  5cee644e5ffbef1ba021c7f389b33bafd3b1841f04d3ed...    images       test   \n",
       "...                                                  ...       ...        ...   \n",
       "30166  699f2992cd71e2e28cf45f81347ff22e76b37541ce8808...    images       test   \n",
       "30167  d616d323a9eeb9da1b66f8d5df671d63c092c9919cb2c0...    images       test   \n",
       "30168  0a849e0eb15faa8a6d7329c3dd66aabe9a294cccb52ed3...    images       test   \n",
       "30169  1d9eacb3161f1e2b45550389ecf7c535c7199c6b44b1c6...    images       test   \n",
       "30170  4727d94c6a57ed484270fdd8bbc6e3d5f2f15d5476794a...    images       test   \n",
       "30171  0e132f71c8b4875c3c2dd7a22997468a3e842b46aa9bd4...    images       test   \n",
       "30172  0f1f896d9ae5a04752d3239c690402c022db4d72c0d2c0...    images       test   \n",
       "30173  bdc789019cee8ddfae20d5f769299993b4b330b2d38d12...    images       test   \n",
       "30174  1cdbfee1951356e7b0a215073828695fe1ead5f8b1add1...    images       test   \n",
       "30175  0114f484a16c152baa2d82fdd43740880a762c93f436c8...    images       test   \n",
       "30176  eea70a7948d25a9a791dbcb39228af4ea4049fe5ebdee9...    images       test   \n",
       "30177  0ed3555a4bd48046d3b63d8baf03a5aa97e523aa483aaa...    images       test   \n",
       "30178  505bc0a3928d8aef5ce441c5a611fdd32e1e8eccdc15cc...    images       test   \n",
       "30179  51c70bb8a299943b27f8b354571272692d8f2705036a1a...    images       test   \n",
       "30180  38f5cfb55fc8b048e82a5c895b25fefae7a70c71ab9990...    images       test   \n",
       "30181  d8d4bf68a76e4e4c5f21de7ac613451f7115a04db68615...    images       test   \n",
       "30182  550450e4bff4036fd671decdc5d42fec23578198d6a2fd...    images       test   \n",
       "30183  1747f62148a919c8feb6d607faeebdf504b5e2ad42b6b1...    images       test   \n",
       "30184  fe9adb627a6f45747c5a8223b671774791ededf9364f65...    images       test   \n",
       "30185  8922a6ac8fd0258ec27738ca101867169b20d90a60fc84...    images       test   \n",
       "30186  78a981bd27ba0c65a9169548665a17bda9f49050d0d389...    images       test   \n",
       "30187  7bdb668e6127b7eafc837a883f0648002bd063c736f55a...    images       test   \n",
       "30188  31f1fbe85b8899258ea5bcf5f93f7ac8238660c386aeab...    images       test   \n",
       "30189  432f367a4c5b5674de2e2977744d10289a064e5704b21a...    images       test   \n",
       "30190  d6eb7ce7723e2f6dc13b90b41a29ded27dbd815bad633f...    images       test   \n",
       "30191  da6c593410340b19bb212b9f6d274f95b08c0fc8f2570c...    images       test   \n",
       "30192  4be73d68f433869188fe5e7f09c7f681ed51003da6aa5d...    images       test   \n",
       "30193  43a71aeb641faa18742cb826772a8566c6c947d7050f9a...    images       test   \n",
       "30194  336d3e4105766f8ad328a7ee9571e743f376f8cbcf6a96...    images       test   \n",
       "30195  ca20076870e8fb604e61802605a9ac45419c82dd3e2340...    images       test   \n",
       "\n",
       "        Stage  \n",
       "30131  stage1  \n",
       "30132  stage1  \n",
       "30133  stage1  \n",
       "30134  stage1  \n",
       "30135  stage1  \n",
       "30136  stage1  \n",
       "30137  stage1  \n",
       "30138  stage1  \n",
       "30139  stage1  \n",
       "30140  stage1  \n",
       "30141  stage1  \n",
       "30142  stage1  \n",
       "30143  stage1  \n",
       "30144  stage1  \n",
       "30145  stage1  \n",
       "30146  stage1  \n",
       "30147  stage1  \n",
       "30148  stage1  \n",
       "30149  stage1  \n",
       "30150  stage1  \n",
       "30151  stage1  \n",
       "30152  stage1  \n",
       "30153  stage1  \n",
       "30154  stage1  \n",
       "30155  stage1  \n",
       "30156  stage1  \n",
       "30157  stage1  \n",
       "30158  stage1  \n",
       "30159  stage1  \n",
       "30160  stage1  \n",
       "...       ...  \n",
       "30166  stage1  \n",
       "30167  stage1  \n",
       "30168  stage1  \n",
       "30169  stage1  \n",
       "30170  stage1  \n",
       "30171  stage1  \n",
       "30172  stage1  \n",
       "30173  stage1  \n",
       "30174  stage1  \n",
       "30175  stage1  \n",
       "30176  stage1  \n",
       "30177  stage1  \n",
       "30178  stage1  \n",
       "30179  stage1  \n",
       "30180  stage1  \n",
       "30181  stage1  \n",
       "30182  stage1  \n",
       "30183  stage1  \n",
       "30184  stage1  \n",
       "30185  stage1  \n",
       "30186  stage1  \n",
       "30187  stage1  \n",
       "30188  stage1  \n",
       "30189  stage1  \n",
       "30190  stage1  \n",
       "30191  stage1  \n",
       "30192  stage1  \n",
       "30193  stage1  \n",
       "30194  stage1  \n",
       "30195  stage1  \n",
       "\n",
       "[65 rows x 5 columns]"
      ]
     },
     "execution_count": 90,
     "metadata": {},
     "output_type": "execute_result"
    }
   ],
   "source": [
    "test_df"
   ]
  },
  {
   "cell_type": "code",
   "execution_count": null,
   "metadata": {},
   "outputs": [],
   "source": []
  }
 ],
 "metadata": {
  "kernelspec": {
   "display_name": "Python 3",
   "language": "python",
   "name": "python3"
  },
  "language_info": {
   "codemirror_mode": {
    "name": "ipython",
    "version": 3
   },
   "file_extension": ".py",
   "mimetype": "text/x-python",
   "name": "python",
   "nbconvert_exporter": "python",
   "pygments_lexer": "ipython3",
   "version": "3.6.3"
  }
 },
 "nbformat": 4,
 "nbformat_minor": 2
}
